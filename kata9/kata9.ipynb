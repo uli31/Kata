{
 "cells": [
  {
   "cell_type": "code",
   "execution_count": 1,
   "metadata": {},
   "outputs": [],
   "source": [
    "# Defino mi función\n",
    "def rocket_parts():\n",
    "    print('payload, propellant, structure')"
   ]
  },
  {
   "cell_type": "code",
   "execution_count": 4,
   "metadata": {},
   "outputs": [
    {
     "name": "stdout",
     "output_type": "stream",
     "text": [
      "payload, propellant, structure\n",
      "payload, propellant, structure\n"
     ]
    },
    {
     "ename": "NameError",
     "evalue": "name 'payload' is not defined",
     "output_type": "error",
     "traceback": [
      "\u001b[1;31m---------------------------------------------------------------------------\u001b[0m",
      "\u001b[1;31mNameError\u001b[0m                                 Traceback (most recent call last)",
      "\u001b[1;32mc:\\Users\\Usuario\\Music\\Kata\\kata9\\kata9.ipynb Cell 2'\u001b[0m in \u001b[0;36m<module>\u001b[1;34m\u001b[0m\n\u001b[0;32m      <a href='vscode-notebook-cell:/c%3A/Users/Usuario/Music/Kata/kata9/kata9.ipynb#ch0000001?line=3'>4</a>\u001b[0m \u001b[39m'\u001b[39m\u001b[39mpayload, propellant, structure\u001b[39m\u001b[39m'\u001b[39m\n\u001b[0;32m      <a href='vscode-notebook-cell:/c%3A/Users/Usuario/Music/Kata/kata9/kata9.ipynb#ch0000001?line=5'>6</a>\u001b[0m output \u001b[39m=\u001b[39m rocket_parts()\n\u001b[1;32m----> <a href='vscode-notebook-cell:/c%3A/Users/Usuario/Music/Kata/kata9/kata9.ipynb#ch0000001?line=6'>7</a>\u001b[0m payload, propellant, structure\n\u001b[0;32m      <a href='vscode-notebook-cell:/c%3A/Users/Usuario/Music/Kata/kata9/kata9.ipynb#ch0000001?line=8'>9</a>\u001b[0m output \u001b[39mis\u001b[39;00m \u001b[39mNone\u001b[39;00m\n\u001b[0;32m     <a href='vscode-notebook-cell:/c%3A/Users/Usuario/Music/Kata/kata9/kata9.ipynb#ch0000001?line=9'>10</a>\u001b[0m \u001b[39mTrue\u001b[39;00m\n",
      "\u001b[1;31mNameError\u001b[0m: name 'payload' is not defined"
     ]
    }
   ],
   "source": [
    "# Llamo a mi función\n",
    "\n",
    "rocket_parts()\n",
    "'payload, propellant, structure'\n",
    "\n",
    "output = rocket_parts()\n",
    "payload, propellant, structure\n",
    "\n",
    "output is None\n",
    "True"
   ]
  },
  {
   "cell_type": "code",
   "execution_count": 3,
   "metadata": {},
   "outputs": [
    {
     "name": "stdout",
     "output_type": "stream",
     "text": [
      "payload, propellant, structure\n"
     ]
    },
    {
     "ename": "NameError",
     "evalue": "name 'payload' is not defined",
     "output_type": "error",
     "traceback": [
      "\u001b[1;31m---------------------------------------------------------------------------\u001b[0m",
      "\u001b[1;31mNameError\u001b[0m                                 Traceback (most recent call last)",
      "\u001b[1;32mc:\\Users\\Usuario\\Music\\Kata\\kata9\\kata9.ipynb Cell 3'\u001b[0m in \u001b[0;36m<module>\u001b[1;34m\u001b[0m\n\u001b[0;32m      <a href='vscode-notebook-cell:/c%3A/Users/Usuario/Music/Kata/kata9/kata9.ipynb#ch0000002?line=0'>1</a>\u001b[0m output \u001b[39m=\u001b[39m rocket_parts()\n\u001b[1;32m----> <a href='vscode-notebook-cell:/c%3A/Users/Usuario/Music/Kata/kata9/kata9.ipynb#ch0000002?line=1'>2</a>\u001b[0m payload, propellant, structure\n\u001b[0;32m      <a href='vscode-notebook-cell:/c%3A/Users/Usuario/Music/Kata/kata9/kata9.ipynb#ch0000002?line=3'>4</a>\u001b[0m output \u001b[39mis\u001b[39;00m \u001b[39mNone\u001b[39;00m\n\u001b[0;32m      <a href='vscode-notebook-cell:/c%3A/Users/Usuario/Music/Kata/kata9/kata9.ipynb#ch0000002?line=4'>5</a>\u001b[0m \u001b[39mTrue\u001b[39;00m\n",
      "\u001b[1;31mNameError\u001b[0m: name 'payload' is not defined"
     ]
    }
   ],
   "source": []
  }
 ],
 "metadata": {
  "interpreter": {
   "hash": "2e3c1e8da6e821b0193601da5a0e541c0efda9704da45b6b820f5f4c317f2def"
  },
  "kernelspec": {
   "display_name": "Python 3.9.7 64-bit",
   "language": "python",
   "name": "python3"
  },
  "language_info": {
   "codemirror_mode": {
    "name": "ipython",
    "version": 3
   },
   "file_extension": ".py",
   "mimetype": "text/x-python",
   "name": "python",
   "nbconvert_exporter": "python",
   "pygments_lexer": "ipython3",
   "version": "3.9.7"
  },
  "orig_nbformat": 4
 },
 "nbformat": 4,
 "nbformat_minor": 2
}
