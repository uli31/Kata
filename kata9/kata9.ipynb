{
 "cells": [
  {
   "cell_type": "code",
   "execution_count": 1,
   "metadata": {},
   "outputs": [],
   "source": [
    "# Defino mi función\n",
    "def rocket_parts():\n",
    "    print('payload, propellant, structure')"
   ]
  },
  {
   "cell_type": "code",
   "execution_count": 6,
   "metadata": {},
   "outputs": [
    {
     "name": "stdout",
     "output_type": "stream",
     "text": [
      " Reporte:\n",
      "    Total Average: 12.333333333333334%\n",
      "    tanque 1: 12%\n",
      "    tanque 2 : 11%\n",
      "    tanque 3: 14% \n",
      "    \n"
     ]
    }
   ],
   "source": [
    "def generar_reporte(tanque1, tanque2, tanque3):\n",
    "    total_tanque = (tanque1 + tanque2 + tanque3) / 3\n",
    "    return f\"\"\" Reporte:\n",
    "    Total Average: {total_tanque}%\n",
    "    tanque 1: {tanque1}%\n",
    "    tanque 2 : {tanque2}%\n",
    "    tanque 3: {tanque3}% \n",
    "    \"\"\"\n",
    "\n",
    "print(generar_reporte(12,11,14))"
   ]
  },
  {
   "cell_type": "code",
   "execution_count": 10,
   "metadata": {},
   "outputs": [
    {
     "name": "stdout",
     "output_type": "stream",
     "text": [
      " Reporte:\n",
      "    Total Average: 12.333333333333334%\n",
      "    promedio : 12.333333333333334\n",
      "    tanque 1: 12%\n",
      "    tanque 2 : 11%\n",
      "    tanque 3: 14% \n",
      "    \n"
     ]
    }
   ],
   "source": [
    "def promedio(promedios):\n",
    "    sum_pro= sum(promedios)\n",
    "    num_total= len(promedios)\n",
    "    return sum_pro/num_total\n",
    "\n",
    "def generar_reporte(tanque1, tanque2, tanque3):\n",
    "    total_tanque = (tanque1 + tanque2 + tanque3) / 3\n",
    "    return f\"\"\" Reporte:\n",
    "    Total Average: {total_tanque}%\n",
    "    promedio : {promedio([tanque1,tanque2,tanque3])}\n",
    "    tanque 1: {tanque1}%\n",
    "    tanque 2 : {tanque2}%\n",
    "    tanque 3: {tanque3}% \n",
    "    \"\"\"\n",
    "\n",
    "print(generar_reporte(12,11,14))\n",
    "\n"
   ]
  },
  {
   "cell_type": "code",
   "execution_count": 11,
   "metadata": {},
   "outputs": [
    {
     "name": "stdout",
     "output_type": "stream",
     "text": [
      "\n",
      "    destino Moon\n",
      "    Tiempo total: 65 minutos\n",
      "    total de tanque: 500000 galones\n",
      "    \n"
     ]
    }
   ],
   "source": [
    "def mission_report(hora_prelanzamiento, tiempo_de_vuelo, destino, tanque_ex, tanque_in):\n",
    "    return f\"\"\"\n",
    "    destino {destino}\n",
    "    Tiempo total: {hora_prelanzamiento + tiempo_de_vuelo} minutos\n",
    "    total de tanque: {tanque_ex + tanque_in} galones\n",
    "    \"\"\"\n",
    "\n",
    "print(mission_report(14, 51, \"Moon\", 200000, 300000))"
   ]
  },
  {
   "cell_type": "code",
   "execution_count": 31,
   "metadata": {},
   "outputs": [
    {
     "name": "stdout",
     "output_type": "stream",
     "text": [
      "\n",
      "    destino Moon\n",
      "    Tiempo total: 33 minutos\n",
      "    total de tanque: 500000 galones\n",
      "\n",
      "    \n"
     ]
    }
   ],
   "source": [
    "def reporte(destino,*tiempo ,**tanques):\n",
    "    return f\"\"\"\n",
    "    destino {destino}\n",
    "    Tiempo total: { sum(tiempo)} minutos\n",
    "    total de tanque: { sum(tanques.values()) } galones\n",
    "\n",
    "    \"\"\"\n",
    "\n",
    "print(reporte( \"Moon\",22,11,interno=200000, externo=300000))"
   ]
  }
 ],
 "metadata": {
  "interpreter": {
   "hash": "2e3c1e8da6e821b0193601da5a0e541c0efda9704da45b6b820f5f4c317f2def"
  },
  "kernelspec": {
   "display_name": "Python 3.9.7 64-bit",
   "language": "python",
   "name": "python3"
  },
  "language_info": {
   "codemirror_mode": {
    "name": "ipython",
    "version": 3
   },
   "file_extension": ".py",
   "mimetype": "text/x-python",
   "name": "python",
   "nbconvert_exporter": "python",
   "pygments_lexer": "ipython3",
   "version": "3.9.7"
  },
  "orig_nbformat": 4
 },
 "nbformat": 4,
 "nbformat_minor": 2
}
